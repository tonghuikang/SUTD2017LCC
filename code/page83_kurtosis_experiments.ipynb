{
 "cells": [
  {
   "cell_type": "code",
   "execution_count": 9,
   "metadata": {
    "collapsed": true
   },
   "outputs": [],
   "source": [
    "# experimental verification of the three kurtosis identities\n",
    "# https://en.wikipedia.org/wiki/Kurtosis\n",
    "# http://mathworld.wolfram.com/Kurtosis.html\n",
    "# https://brownmath.com/stat/shape.htm\n",
    "\n",
    "# The coin toss has the most platykurtic (sub-Gaussian) distribution.\n",
    "# The Possion distribution is one of the most leptokurtic distribution.\n",
    "\n",
    "# Let r.v. X be the sum of the a set of n identical and independently distributed r.v. Y\n",
    "\n",
    "import numpy as np\n",
    "from scipy.stats import kurtosis\n",
    "\n",
    "def generate_sample(no_of_elements):\n",
    "    # Y = np.random.randint(0, 10, b)  # assign a random int from 0 to k to each entry of Y\n",
    "    # Y = 10*np.random.random(b)\n",
    "    Y = np.random.poisson(1.5, b)  # possion with lambda\n",
    "    return Y"
   ]
  },
  {
   "cell_type": "code",
   "execution_count": 10,
   "metadata": {},
   "outputs": [
    {
     "name": "stdout",
     "output_type": "stream",
     "text": [
      "mean of Y: 1.502362\n",
      "variance of Y: 1.50507842096\n",
      "kurtosis of Y: 0.687077579421 \n",
      "\n"
     ]
    }
   ],
   "source": [
    "# taking kurtosis of Y, using a larger sampler size for Y\n",
    "# coin filpping\n",
    "b = 500000  # as n is small, we would use a larger number b for the kurtosis of Y\n",
    "Y = generate_sample(b)\n",
    "print(\"mean of Y: {}\".format(np.mean(Y)))\n",
    "print(\"variance of Y: {}\".format(np.var(Y)))\n",
    "print(\"kurtosis of Y: {} \\n\".format(kurtosis(Y)))\n",
    "# print(\"kurtosis of Y: {}\".format(kurtosis(Y) * b / (b - 1)))  # bias/unbiased?"
   ]
  },
  {
   "cell_type": "code",
   "execution_count": null,
   "metadata": {
    "collapsed": true
   },
   "outputs": [],
   "source": [
    "n = 5  # number of iid Y that make up X\n",
    "m = 100000  # number of samples of X we are taking\n",
    "z = 3  # z is the number of experiments\n",
    "\n",
    "X = [0]*m  # initialising r.v. X\n",
    "kurtosis_X = [0]*z  # z is the number of experiments\n",
    "\n",
    "for k in range(z):  # perhaps can be parallelised\n",
    "    for j in range(m):\n",
    "        Y = generate_sample(m)\n",
    "        X[j] = np.sum(Y)  # takes the sum of Y\n",
    "    kurtosis_X[k] = kurtosis(X) * m / (m - 1)  # bias/unbiased sorcery"
   ]
  },
  {
   "cell_type": "code",
   "execution_count": null,
   "metadata": {},
   "outputs": [],
   "source": [
    "print(\"mean of X(Y): {} ({})\".format(np.mean(X), np.mean(X)/n))\n",
    "print(\"variance of X(Y): {} ({})\".format(np.var(X), np.var(X)/n))\n",
    "print(\"kurtosis of X: {} std_dev: {}\".format(np.median(kurtosis_X), np.std(kurtosis_X)))\n",
    "print(\"kurtosis of Y: {} std_dev: {}\".format(np.median(kurtosis_X)*n, np.std(kurtosis_X)*n))  # for comparison with kurtosis of Y"
   ]
  },
  {
   "cell_type": "code",
   "execution_count": null,
   "metadata": {
    "collapsed": true
   },
   "outputs": [],
   "source": []
  }
 ],
 "metadata": {
  "kernelspec": {
   "display_name": "Python 2",
   "language": "python",
   "name": "python2"
  },
  "language_info": {
   "codemirror_mode": {
    "name": "ipython",
    "version": 2
   },
   "file_extension": ".py",
   "mimetype": "text/x-python",
   "name": "python",
   "nbconvert_exporter": "python",
   "pygments_lexer": "ipython2",
   "version": "2.7.13"
  }
 },
 "nbformat": 4,
 "nbformat_minor": 2
}
