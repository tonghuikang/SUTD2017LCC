{
 "cells": [
  {
   "cell_type": "markdown",
   "metadata": {},
   "source": [
    "## importing packages\n",
    "$s[k]$"
   ]
  },
  {
   "cell_type": "code",
   "execution_count": 1,
   "metadata": {},
   "outputs": [],
   "source": [
    "import sys\n",
    "import threading\n",
    "import atexit\n",
    "import pyaudio\n",
    "import numpy as np\n",
    "import matplotlib.pyplot as plt\n",
    "import time\n",
    "from PyQt4 import QtGui, uic, QtCore\n",
    "from matplotlib.backends.backend_qt4agg import FigureCanvasQTAgg as FigureCanvas\n",
    "from matplotlib.backends.backend_qt4agg import NavigationToolbar2QT as NavigationToolbar"
   ]
  },
  {
   "cell_type": "code",
   "execution_count": 2,
   "metadata": {},
   "outputs": [],
   "source": [
    "chunksize = 2048\n",
    "tempo_res = 32  # r_coeff resolution, needs to be a factor of chunksize\n",
    "tempo_num = int(chunksize / tempo_res)\n",
    "iteration = 0  # for counting, if needed\n",
    "noise = np.array(np.round(200000 * np.random.randn(chunksize)),dtype=\"int32\")  # to desensitise onset detection\n",
    "sampling_rate = 44100\n",
    "notes_dict = [\"C\", \"C#\", \"D\", \"D#\", \"E\", \"F\", \"F#\", \"G\", \"G#\", \"A\", \"A#\", \"B\"]\n",
    "\n",
    "# run this once only\n",
    "entry_start_number = 0\n",
    "\n",
    "# holding variables\n",
    "signal_frame_pp0 = [0] * chunksize\n",
    "signal_frame_pp1 = [0] * chunksize\n",
    "signal_frame_pp2 = [0] * chunksize\n",
    "signal_frame_pp3 = [0] * chunksize\n",
    "energy_frame_pp0 = [0] * chunksize\n",
    "energy_frame_pp1 = [0] * chunksize\n",
    "energy_frame_pp2 = [0] * chunksize\n",
    "energy_frame_pp3 = [0] * chunksize\n",
    "rcoeff_frame_pp1 = [0.0] * int(tempo_res)\n",
    "rcoeff_frame_pp2 = [0.0] * int(tempo_res)\n",
    "rcoeff_frame_pp3 = [0.0] * int(tempo_res)\n",
    "\n",
    "note_detected = False\n",
    "ffreq = 0.0\n",
    "signal_to_show = [0] * (chunksize * 2)\n",
    "signal_to_ayse = [0] * (chunksize)\n",
    "shift = 0.0\n",
    "signal_frame_pp1[1] = 1\n",
    "energy_frame_pp2[1] = 1"
   ]
  },
  {
   "cell_type": "markdown",
   "metadata": {},
   "source": [
    "## The following code is inside handle_new_data\n",
    "\n",
    "Obtaining signal"
   ]
  },
  {
   "cell_type": "code",
   "execution_count": 3,
   "metadata": {},
   "outputs": [
    {
     "ename": "RuntimeError",
     "evalue": "Error opening 'C:\\\\Users\\\\just4\\\\Documents\\\\GitHub\\\\SUTD2017LCC\\\\sounds\\\\marsh mono.wav': System error.",
     "output_type": "error",
     "traceback": [
      "\u001b[1;31m---------------------------------------------------------------------------\u001b[0m",
      "\u001b[1;31mRuntimeError\u001b[0m                              Traceback (most recent call last)",
      "\u001b[1;32m<ipython-input-3-d376b8994bd1>\u001b[0m in \u001b[0;36m<module>\u001b[1;34m()\u001b[0m\n\u001b[0;32m     12\u001b[0m \u001b[0mfile_name\u001b[0m \u001b[1;33m=\u001b[0m \u001b[0mos\u001b[0m\u001b[1;33m.\u001b[0m\u001b[0mpath\u001b[0m\u001b[1;33m.\u001b[0m\u001b[0mjoin\u001b[0m\u001b[1;33m(\u001b[0m\u001b[0mfileDir\u001b[0m\u001b[1;33m,\u001b[0m \u001b[1;34m'../sounds/marsh mono.wav'\u001b[0m\u001b[1;33m)\u001b[0m\u001b[1;33m\u001b[0m\u001b[0m\n\u001b[0;32m     13\u001b[0m \u001b[0mfile_name\u001b[0m \u001b[1;33m=\u001b[0m \u001b[0mos\u001b[0m\u001b[1;33m.\u001b[0m\u001b[0mpath\u001b[0m\u001b[1;33m.\u001b[0m\u001b[0mabspath\u001b[0m\u001b[1;33m(\u001b[0m\u001b[0mos\u001b[0m\u001b[1;33m.\u001b[0m\u001b[0mpath\u001b[0m\u001b[1;33m.\u001b[0m\u001b[0mrealpath\u001b[0m\u001b[1;33m(\u001b[0m\u001b[0mfile_name\u001b[0m\u001b[1;33m)\u001b[0m\u001b[1;33m)\u001b[0m\u001b[1;33m\u001b[0m\u001b[0m\n\u001b[1;32m---> 14\u001b[1;33m \u001b[0mref\u001b[0m\u001b[1;33m,\u001b[0m \u001b[0msample_rate\u001b[0m \u001b[1;33m=\u001b[0m \u001b[0msf\u001b[0m\u001b[1;33m.\u001b[0m\u001b[0mread\u001b[0m\u001b[1;33m(\u001b[0m\u001b[0mfile_name\u001b[0m\u001b[1;33m)\u001b[0m\u001b[1;33m\u001b[0m\u001b[0m\n\u001b[0m\u001b[0;32m     15\u001b[0m \u001b[1;33m\u001b[0m\u001b[0m\n\u001b[0;32m     16\u001b[0m \u001b[0mt_start\u001b[0m \u001b[1;33m=\u001b[0m \u001b[1;36m0.65\u001b[0m\u001b[1;33m\u001b[0m\u001b[0m\n",
      "\u001b[1;32mc:\\python27\\lib\\site-packages\\soundfile.pyc\u001b[0m in \u001b[0;36mread\u001b[1;34m(file, frames, start, stop, dtype, always_2d, fill_value, out, samplerate, channels, format, subtype, endian, closefd)\u001b[0m\n\u001b[0;32m    371\u001b[0m     \"\"\"\n\u001b[0;32m    372\u001b[0m     with SoundFile(file, 'r', samplerate, channels,\n\u001b[1;32m--> 373\u001b[1;33m                    subtype, endian, format, closefd) as f:\n\u001b[0m\u001b[0;32m    374\u001b[0m         \u001b[0mframes\u001b[0m \u001b[1;33m=\u001b[0m \u001b[0mf\u001b[0m\u001b[1;33m.\u001b[0m\u001b[0m_prepare_read\u001b[0m\u001b[1;33m(\u001b[0m\u001b[0mstart\u001b[0m\u001b[1;33m,\u001b[0m \u001b[0mstop\u001b[0m\u001b[1;33m,\u001b[0m \u001b[0mframes\u001b[0m\u001b[1;33m)\u001b[0m\u001b[1;33m\u001b[0m\u001b[0m\n\u001b[0;32m    375\u001b[0m         \u001b[0mdata\u001b[0m \u001b[1;33m=\u001b[0m \u001b[0mf\u001b[0m\u001b[1;33m.\u001b[0m\u001b[0mread\u001b[0m\u001b[1;33m(\u001b[0m\u001b[0mframes\u001b[0m\u001b[1;33m,\u001b[0m \u001b[0mdtype\u001b[0m\u001b[1;33m,\u001b[0m \u001b[0malways_2d\u001b[0m\u001b[1;33m,\u001b[0m \u001b[0mfill_value\u001b[0m\u001b[1;33m,\u001b[0m \u001b[0mout\u001b[0m\u001b[1;33m)\u001b[0m\u001b[1;33m\u001b[0m\u001b[0m\n",
      "\u001b[1;32mc:\\python27\\lib\\site-packages\\soundfile.pyc\u001b[0m in \u001b[0;36m__init__\u001b[1;34m(self, file, mode, samplerate, channels, subtype, endian, format, closefd)\u001b[0m\n\u001b[0;32m    738\u001b[0m         self._info = _create_info_struct(file, mode, samplerate, channels,\n\u001b[0;32m    739\u001b[0m                                          format, subtype, endian)\n\u001b[1;32m--> 740\u001b[1;33m         \u001b[0mself\u001b[0m\u001b[1;33m.\u001b[0m\u001b[0m_file\u001b[0m \u001b[1;33m=\u001b[0m \u001b[0mself\u001b[0m\u001b[1;33m.\u001b[0m\u001b[0m_open\u001b[0m\u001b[1;33m(\u001b[0m\u001b[0mfile\u001b[0m\u001b[1;33m,\u001b[0m \u001b[0mmode_int\u001b[0m\u001b[1;33m,\u001b[0m \u001b[0mclosefd\u001b[0m\u001b[1;33m)\u001b[0m\u001b[1;33m\u001b[0m\u001b[0m\n\u001b[0m\u001b[0;32m    741\u001b[0m         \u001b[1;32mif\u001b[0m \u001b[0mset\u001b[0m\u001b[1;33m(\u001b[0m\u001b[0mmode\u001b[0m\u001b[1;33m)\u001b[0m\u001b[1;33m.\u001b[0m\u001b[0missuperset\u001b[0m\u001b[1;33m(\u001b[0m\u001b[1;34m'r+'\u001b[0m\u001b[1;33m)\u001b[0m \u001b[1;32mand\u001b[0m \u001b[0mself\u001b[0m\u001b[1;33m.\u001b[0m\u001b[0mseekable\u001b[0m\u001b[1;33m(\u001b[0m\u001b[1;33m)\u001b[0m\u001b[1;33m:\u001b[0m\u001b[1;33m\u001b[0m\u001b[0m\n\u001b[0;32m    742\u001b[0m             \u001b[1;31m# Move write position to 0 (like in Python file objects)\u001b[0m\u001b[1;33m\u001b[0m\u001b[1;33m\u001b[0m\u001b[0m\n",
      "\u001b[1;32mc:\\python27\\lib\\site-packages\\soundfile.pyc\u001b[0m in \u001b[0;36m_open\u001b[1;34m(self, file, mode_int, closefd)\u001b[0m\n\u001b[0;32m   1263\u001b[0m             \u001b[1;32mraise\u001b[0m \u001b[0mTypeError\u001b[0m\u001b[1;33m(\u001b[0m\u001b[1;34m\"Invalid file: {0!r}\"\u001b[0m\u001b[1;33m.\u001b[0m\u001b[0mformat\u001b[0m\u001b[1;33m(\u001b[0m\u001b[0mself\u001b[0m\u001b[1;33m.\u001b[0m\u001b[0mname\u001b[0m\u001b[1;33m)\u001b[0m\u001b[1;33m)\u001b[0m\u001b[1;33m\u001b[0m\u001b[0m\n\u001b[0;32m   1264\u001b[0m         _error_check(_snd.sf_error(file_ptr),\n\u001b[1;32m-> 1265\u001b[1;33m                      \"Error opening {0!r}: \".format(self.name))\n\u001b[0m\u001b[0;32m   1266\u001b[0m         \u001b[1;32mif\u001b[0m \u001b[0mmode_int\u001b[0m \u001b[1;33m==\u001b[0m \u001b[0m_snd\u001b[0m\u001b[1;33m.\u001b[0m\u001b[0mSFM_WRITE\u001b[0m\u001b[1;33m:\u001b[0m\u001b[1;33m\u001b[0m\u001b[0m\n\u001b[0;32m   1267\u001b[0m             \u001b[1;31m# Due to a bug in libsndfile version <= 1.0.25, frames != 0\u001b[0m\u001b[1;33m\u001b[0m\u001b[1;33m\u001b[0m\u001b[0m\n",
      "\u001b[1;32mc:\\python27\\lib\\site-packages\\soundfile.pyc\u001b[0m in \u001b[0;36m_error_check\u001b[1;34m(err, prefix)\u001b[0m\n\u001b[0;32m   1453\u001b[0m     \u001b[1;32mif\u001b[0m \u001b[0merr\u001b[0m \u001b[1;33m!=\u001b[0m \u001b[1;36m0\u001b[0m\u001b[1;33m:\u001b[0m\u001b[1;33m\u001b[0m\u001b[0m\n\u001b[0;32m   1454\u001b[0m         \u001b[0merr_str\u001b[0m \u001b[1;33m=\u001b[0m \u001b[0m_snd\u001b[0m\u001b[1;33m.\u001b[0m\u001b[0msf_error_number\u001b[0m\u001b[1;33m(\u001b[0m\u001b[0merr\u001b[0m\u001b[1;33m)\u001b[0m\u001b[1;33m\u001b[0m\u001b[0m\n\u001b[1;32m-> 1455\u001b[1;33m         \u001b[1;32mraise\u001b[0m \u001b[0mRuntimeError\u001b[0m\u001b[1;33m(\u001b[0m\u001b[0mprefix\u001b[0m \u001b[1;33m+\u001b[0m \u001b[0m_ffi\u001b[0m\u001b[1;33m.\u001b[0m\u001b[0mstring\u001b[0m\u001b[1;33m(\u001b[0m\u001b[0merr_str\u001b[0m\u001b[1;33m)\u001b[0m\u001b[1;33m.\u001b[0m\u001b[0mdecode\u001b[0m\u001b[1;33m(\u001b[0m\u001b[1;34m'utf-8'\u001b[0m\u001b[1;33m,\u001b[0m \u001b[1;34m'replace'\u001b[0m\u001b[1;33m)\u001b[0m\u001b[1;33m)\u001b[0m\u001b[1;33m\u001b[0m\u001b[0m\n\u001b[0m\u001b[0;32m   1456\u001b[0m \u001b[1;33m\u001b[0m\u001b[0m\n\u001b[0;32m   1457\u001b[0m \u001b[1;33m\u001b[0m\u001b[0m\n",
      "\u001b[1;31mRuntimeError\u001b[0m: Error opening 'C:\\\\Users\\\\just4\\\\Documents\\\\GitHub\\\\SUTD2017LCC\\\\sounds\\\\marsh mono.wav': System error."
     ]
    }
   ],
   "source": [
    "'''\n",
    "# print str(time.time() - start_time) + \"  \" + str(time.time() - prev_time) + \\\n",
    "# \" gets the latest frames\"\n",
    "# prev_time = time.time()\n",
    "signal_frames = mic.get_frames()\n",
    "'''\n",
    "\n",
    "import os\n",
    "import soundfile as sf\n",
    "# read file\n",
    "fileDir = os.path.dirname(os.path.realpath('__file__'))\n",
    "file_name = os.path.join(fileDir, '../sounds/ttls u3.wav')\n",
    "file_name = os.path.abspath(os.path.realpath(file_name))\n",
    "ref, sample_rate = sf.read(file_name)\n",
    "\n",
    "t_start = 0.65\n",
    "t_end = 29.0\n",
    "signal = ref[int(t_start * 44100): int(t_end * 44100), 0]\n",
    "signal_length = chunksize\n",
    "\n",
    "# add noise so that silent parts will not give ambiguous values\n",
    "# signal = np.add(signal, 0.001*np.random.randn(len(signal)))\n",
    "# sd.play(signal, sample_rate)\n",
    "\n"
   ]
  },
  {
   "cell_type": "markdown",
   "metadata": {},
   "source": [
    "# Loop the following"
   ]
  },
  {
   "cell_type": "code",
   "execution_count": null,
   "metadata": {},
   "outputs": [],
   "source": [
    "signal_frame_pp0 = np.array(np.array(signal[entry_start_number:entry_start_number+chunksize])*32768, dtype=\"int32\")\n",
    "entry_start_number = entry_start_number + chunksize\n",
    "print entry_start_number\n",
    "\n",
    "plt.plot(np.array(signal_frame_pp0, dtype=float)/32768, lw=0.7)\n",
    "plt.xlabel(\"entry number (1/44100 s)\")\n",
    "plt.ylabel(\"displacement\")\n",
    "ax = plt.gca() \n",
    "ax.set_xlim([0, chunksize])\n",
    "ax.set_ylim([-1, 1])\n",
    "plt.show()"
   ]
  },
  {
   "cell_type": "code",
   "execution_count": null,
   "metadata": {},
   "outputs": [],
   "source": [
    "# print str(time.time() - start_time) + \"  \" + str(time.time() - prev_time) + \\\n",
    "# \" energy calculations\"  # 0.01s\n",
    "# prev_time = time.time()\n",
    "# to calculate the rectangular window for every sample\n",
    "# numpy operations are more efficient than using python loops\n",
    "# the size of the rectangular window is one chunksize\n",
    "# convolution can be considered\n",
    "energy_frame_pp0 = np.full(chunksize, sum(np.absolute(signal_frame_pp2)), dtype=\"int32\")\n",
    "to_cumsum = np.add(np.absolute(signal_frame_pp1), -np.absolute(signal_frame_pp2))\n",
    "cumsum = np.cumsum(to_cumsum)\n",
    "energy_frame_pp0[1:] = np.add(energy_frame_pp0[1:], cumsum[:-1])\n",
    "energy_frame_pp0 = np.add(energy_frame_pp0, noise)\n",
    "# energy_frame_pp0 = np.add(energy_frame_pp0, [100]*2048)\n",
    "\n",
    "plt.plot(np.array(signal_frame_pp0, dtype=float)/32768, lw=0.7)\n",
    "plt.plot(np.array(energy_frame_pp0, dtype=float)/np.max(energy_frame_pp0), lw=0.1, color='g')\n",
    "plt.xlabel(\"entry number (1/44100 s)\")\n",
    "plt.ylabel(\"displacement, energy(in arb. units)\")\n",
    "ax = plt.gca() \n",
    "ax.set_xlim([0, chunksize])\n",
    "ax.set_ylim([-1, 1])\n",
    "plt.show()"
   ]
  },
  {
   "cell_type": "code",
   "execution_count": null,
   "metadata": {},
   "outputs": [],
   "source": [
    "# print str(time.time() - start_time) + \"  \" + str(time.time() - prev_time) + \\\n",
    "# \" r_coeff calculations\"\n",
    "# prev_time = time.time()\n",
    "# calculating pearson correlation coefficient at 2048/32 samples\n",
    "# to determine exact time of onset\n",
    "# could not think of any way this could be parallelised\n",
    "energy_arg = np.concatenate((energy_frame_pp1, energy_frame_pp0))\n",
    "# energy_arg = np.concatenate((energy_frame_pp1[i*tempo_num:],\n",
    "#                              energy_frame_pp0[:-(tempo_res-i)*tempo_num]))\n",
    "for i in range(tempo_res):\n",
    "    rcoeff_frame_pp1[i] = np.corrcoef(energy_arg[i * tempo_num:(i * tempo_num + chunksize)],\n",
    "                                      np.arange(chunksize))[0, 1]\n",
    "    \n",
    "plt.plot(np.array(signal_frame_pp0, dtype=float)/32768, lw=0.7)\n",
    "plt.plot(np.array(energy_frame_pp0, dtype=float)/np.max(energy_frame_pp0), lw=0.1, color='g')\n",
    "plt.plot(np.arange(0,chunksize,tempo_num), rcoeff_frame_pp1, color='r')\n",
    "plt.xlabel(\"entry number (1/44100 s)\")\n",
    "plt.ylabel(\"displacement, energy(in arb. units), r-value\")\n",
    "ax = plt.gca() \n",
    "ax.set_xlim([0, chunksize])\n",
    "ax.set_ylim([-1, 1])\n",
    "plt.show()"
   ]
  },
  {
   "cell_type": "markdown",
   "metadata": {},
   "source": [
    "## Harmonic Product Spectrum\n",
    "Explained in another ipython file"
   ]
  },
  {
   "cell_type": "code",
   "execution_count": null,
   "metadata": {},
   "outputs": [],
   "source": [
    "# print str(time.time() - start_time) + \"  \" + str(time.time() - prev_time) + \\\n",
    "# \" detecting new note\"\n",
    "# prev_time = time.time()\n",
    "rcoeff_arg = np.concatenate((rcoeff_frame_pp2, rcoeff_frame_pp1))\n",
    "# we need the previous rcoeff frame to determine onset\n",
    "\n",
    "# finding the onset, any way not to loop?\n",
    "for i in range(tempo_res, 0, -1):\n",
    "    # if rcoeff_arg[-i] > 0.80 and all(i < 0.80 for i in rcoeff_arg[-i-5:-i]):\n",
    "    if rcoeff_arg[-i] > 0.80 and np.max(rcoeff_arg[-i - 31:-i]) < 0.80:\n",
    "        # to determine onset  - where the rcoeff graph crosses 0.80,\n",
    "        # 31 entries cooldown - check that previous entries do not have cooldown\n",
    "        # print i\n",
    "        # print rcoeff_arg[-i]\n",
    "        # print np.around(rcoeff_arg, 2)\n",
    "\n",
    "        # print str(time.time() - start_time) + \"  \" + str(time.time() - prev_time) + \\\n",
    "        # \" note class\"\n",
    "        # prev_time = time.time()\n",
    "        time_arg = np.concatenate((signal_frame_pp3, signal_frame_pp2,\n",
    "                                   signal_frame_pp1, signal_frame_pp0))\n",
    "        signal_to_show = time_arg[-i * tempo_num - int((2 + shift) * chunksize):\n",
    "                                  -i * tempo_num - int((0 + shift) * chunksize)]\n",
    "        signal_to_ayse = time_arg[-i * tempo_num - int((1 + shift) * chunksize):\n",
    "                                  -i * tempo_num - int((0 + shift) * chunksize)]\n",
    "        signal_to_deduct = time_arg[-i * tempo_num - int((2 + shift) * chunksize):\n",
    "                                    -i * tempo_num - int((1 + shift) * chunksize)]\n",
    "        # Consider whether should a window be applied\n",
    "\n",
    "        spectrum = np.absolute(np.fft.fft(signal_to_ayse))\n",
    "\n",
    "        spectrum_to_deduct = np.absolute(np.fft.fft(signal_to_deduct))\n",
    "        to_subtract = False  # take the spectral difference between the current and previous chunk\n",
    "        if to_subtract:\n",
    "            spectrum = np.clip(np.add(spectrum, -1 * np.array(spectrum_to_deduct)), 0, 100000000)\n",
    "            # consider the effectiveness of taking the difference\n",
    "\n",
    "        # following is the hps algorithm\n",
    "        spectrum[:12] = 0.0  # anything below middle C is muted\n",
    "        spectrum[1024:] = 0.0  # mute second half of spectrum, lazy to change code\n",
    "\n",
    "        scale1 = [0.0] * (2048 * 6)\n",
    "        scale2 = [0.0] * (2048 * 6)\n",
    "        scale3 = [0.0] * (2048 * 6)\n",
    "\n",
    "        # upsampling the original scale spectrum, 6 for 1\n",
    "        scale1_f1 = np.convolve(spectrum, [5.0 / 6.0, 1.0 / 6.0])[1:]\n",
    "        scale1_f2 = np.convolve(spectrum, [4.0 / 6.0, 2.0 / 6.0])[1:]\n",
    "        scale1_f3 = np.convolve(spectrum, [3.0 / 6.0, 3.0 / 6.0])[1:]\n",
    "        scale1_f4 = np.convolve(spectrum, [2.0 / 6.0, 4.0 / 6.0])[1:]\n",
    "        scale1_f5 = np.convolve(spectrum, [1.0 / 6.0, 5.0 / 6.0])[1:]\n",
    "        scale1[::6] = spectrum\n",
    "        scale1[1::6] = scale1_f5\n",
    "        scale1[2::6] = scale1_f4\n",
    "        scale1[3::6] = scale1_f3\n",
    "        scale1[4::6] = scale1_f2\n",
    "        scale1[5::6] = scale1_f1\n",
    "        # downsampling from the 6 for 1 upsample\n",
    "        scale2[:2048 * 3] = scale1[::2]\n",
    "        scale3[:2048 * 2] = scale1[::3]\n",
    "        hps = np.prod((scale1, scale2, scale3), axis=0)  # the \"product\" in harmonic product spectrum\n",
    "        hps_max = np.argmax(hps)  # determine the location of the peak of hps result\n",
    "        # calculate the corresponding frequency of the peak\n",
    "        ffreq = hps_max * 44100.0 / (2048.0 * 6.0)  # sampling rate / (chunksize * upsampling value)\n",
    "\n",
    "        spectrum = np.array(spectrum[:int(0.5 * chunksize) + 1])  # to be plotted\n",
    "\n",
    "        if hps_max < 5:\n",
    "            print \"low ffreq\"  # should not be possible - just investigating\n",
    "            break\n",
    "\n",
    "        # TODO: add some weights, adapt spread based on how high ffreq is\n",
    "        total_energy = np.sum(scale1)\n",
    "        total_energy_due_to_ffreq = np.sum(scale1[::hps_max]) \\\n",
    "                                    + np.sum(scale1[1::hps_max]) + np.sum(scale1[:hps_max - 1:hps_max]) \\\n",
    "            # + np.sum(scale1[2::hps_max]) + np.sum(scale1[:hps_max - 2:hps_max]) \\\n",
    "        # + np.sum(scale1[3::hps_max]) + np.sum(scale1[:hps_max - 3:hps_max]) \\\n",
    "        # + np.sum(scale1[4::hps_max]) + np.sum(scale1[:hps_max - 4:hps_max]) \\\n",
    "        # + np.sum(scale1[5::hps_max]) + np.sum(scale1[:hps_max - 5:hps_max]) \\\n",
    "        # + np.sum(scale1[6::hps_max]) + np.sum(scale1[:hps_max - 6:hps_max])\n",
    "\n",
    "        portion_of_energy = (total_energy_due_to_ffreq / total_energy) * 21\n",
    "\n",
    "        if portion_of_energy > 1:\n",
    "            # printing note in solfage form\n",
    "            note_no = -3 + (np.log2(ffreq) - np.log2(220.0)) * 12.0  # take logarithm and find note\n",
    "            note_no_rounded = np.round(note_no)  # round off to nearest note\n",
    "            note_no_difference = note_no - note_no_rounded\n",
    "            octave_no = 4 + int(note_no_rounded // 12)\n",
    "            solfate_no = int(note_no_rounded) % 12\n",
    "            note = str(notes_dict[solfate_no]) + str(octave_no)\n",
    "\n",
    "            print (\"{:.2f}Hz({:02}) {:.2f}, {:3s} {:+.2f} at {:.3f}s\"\n",
    "                   .format(ffreq, int(note_no_rounded), portion_of_energy, note, note_no_difference,\n",
    "                           t_start + i*2048./44100.))\n",
    "            note_detected = True\n",
    "        else:\n",
    "            print(\"inharmonic sound ({:.2f}) detected at {:.3f}s\"\n",
    "                  .format(portion_of_energy, t_start + i*2048./44100.))"
   ]
  },
  {
   "cell_type": "markdown",
   "metadata": {},
   "source": [
    "If a note is detected, make changes onto the graph."
   ]
  },
  {
   "cell_type": "code",
   "execution_count": 4,
   "metadata": {},
   "outputs": [
    {
     "name": "stderr",
     "output_type": "stream",
     "text": [
      "c:\\python27\\lib\\site-packages\\ipykernel_launcher.py:2: RuntimeWarning: invalid value encountered in divide\n",
      "  \n"
     ]
    },
    {
     "data": {
      "image/png": "[encoded data removed]",
      "text/plain": [
       "<matplotlib.figure.Figure at 0x6d25110>"
      ]
     },
     "metadata": {},
     "output_type": "display_data"
    }
   ],
   "source": [
    "plt.plot(np.array(signal_frame_pp0, dtype=float)/32768, lw=0.7)\n",
    "plt.plot(np.array(energy_frame_pp0, dtype=float)/np.max(energy_frame_pp0), lw=0.1, color='g')\n",
    "plt.plot(np.arange(0,chunksize,tempo_num), rcoeff_frame_pp1, color='r')\n",
    "plt.xlabel(\"entry number (1/44100 s)\")\n",
    "plt.ylabel(\"displacement, energy(in arb. units), r-value\")\n",
    "ax = plt.gca() \n",
    "ax.set_xlim([0, chunksize])\n",
    "ax.set_ylim([-1, 1])\n",
    "plt.show()"
   ]
  },
  {
   "cell_type": "markdown",
   "metadata": {},
   "source": [
    "## Moving forward to the next frame"
   ]
  },
  {
   "cell_type": "code",
   "execution_count": 5,
   "metadata": {},
   "outputs": [],
   "source": [
    "# print str(time.time() - start_time) + \"  \" + str(time.time() - prev_time) + \\\n",
    "# \" storing for recursion\"\n",
    "# prev_time = time.time()\n",
    "signal_frame_pp3 = signal_frame_pp2[:]\n",
    "signal_frame_pp2 = signal_frame_pp1[:]\n",
    "signal_frame_pp1 = signal_frame_pp0[:]\n",
    "energy_frame_pp1 = energy_frame_pp0[:]\n",
    "rcoeff_frame_pp2 = rcoeff_frame_pp1[:]"
   ]
  },
  {
   "cell_type": "code",
   "execution_count": null,
   "metadata": {},
   "outputs": [],
   "source": []
  },
  {
   "cell_type": "code",
   "execution_count": null,
   "metadata": {},
   "outputs": [],
   "source": []
  },
  {
   "cell_type": "code",
   "execution_count": null,
   "metadata": {},
   "outputs": [],
   "source": []
  }
 ],
 "metadata": {
  "kernelspec": {
   "display_name": "Python 2",
   "language": "python",
   "name": "python2"
  },
  "language_info": {
   "codemirror_mode": {
    "name": "ipython",
    "version": 2
   },
   "file_extension": ".py",
   "mimetype": "text/x-python",
   "name": "python",
   "nbconvert_exporter": "python",
   "pygments_lexer": "ipython2",
   "version": "2.7.14"
  }
 },
 "nbformat": 4,
 "nbformat_minor": 2
}
