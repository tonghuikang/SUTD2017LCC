{
 "cells": [
  {
   "cell_type": "markdown",
   "metadata": {},
   "source": [
    "# Basic Python tutorial truncated\n",
    "Adapted from Derek Banas https://www.youtube.com/watch?v=N4mEzFDjqtA"
   ]
  },
  {
   "cell_type": "code",
   "execution_count": 1,
   "metadata": {},
   "outputs": [
    {
     "name": "stdout",
     "output_type": "stream",
     "text": [
      "Hello World\n"
     ]
    }
   ],
   "source": [
    "# Hello world is just one line of code\n",
    "# print() outputs data to the screen\n",
    "print(\"Hello World\")"
   ]
  },
  {
   "cell_type": "code",
   "execution_count": 3,
   "metadata": {},
   "outputs": [
    {
     "name": "stdout",
     "output_type": "stream",
     "text": [
      "Derek\n"
     ]
    }
   ],
   "source": [
    "# import is used to make specialty functions available\n",
    "# These are called modules\n",
    "import random\n",
    "\n",
    "'''\n",
    "This is a multi-line comment\n",
    "'''\n",
    "# A variable is a place to store values\n",
    "# Its name is like a label for that value\n",
    "name = \"Derek\"\n",
    "print(name)"
   ]
  },
  {
   "cell_type": "code",
   "execution_count": 19,
   "metadata": {},
   "outputs": [
    {
     "name": "stdout",
     "output_type": "stream",
     "text": [
      "15\n"
     ]
    }
   ],
   "source": [
    "# A variable name can contain letters, numbers, or _\n",
    "# but can't start with a number\n",
    " \n",
    "# There are 5 data types Numbers, Strings, List, Tuple, Dictionary\n",
    "# You can store any of them in the same variable\n",
    " \n",
    "name = 15\n",
    "print(name) "
   ]
  },
  {
   "cell_type": "code",
   "execution_count": 20,
   "metadata": {},
   "outputs": [
    {
     "name": "stdout",
     "output_type": "stream",
     "text": [
      "('5 + 2 =', 7)\n",
      "('5 - 2 =', 3)\n",
      "('5 * 2 =', 10)\n",
      "('5 / 2 =', 2)\n",
      "('5 % 2 =', 1)\n",
      "('5 ** 2 =', 25)\n",
      "('5 // 2 =', 2)\n"
     ]
    }
   ],
   "source": [
    "# The arithmetic operators +, -, *, /, %, **, //\n",
    "# ** Exponential calculation\n",
    "# // Floor Division\n",
    "print(\"5 + 2 =\", 5+2)\n",
    "print(\"5 - 2 =\", 5-2)\n",
    "print(\"5 * 2 =\", 5*2)\n",
    "print(\"5 / 2 =\", 5/2)\n",
    "print(\"5 % 2 =\", 5%2)\n",
    "print(\"5 ** 2 =\", 5**2)\n",
    "print(\"5 // 2 =\", 5//2) "
   ]
  },
  {
   "cell_type": "code",
   "execution_count": 4,
   "metadata": {},
   "outputs": [
    {
     "name": "stdout",
     "output_type": "stream",
     "text": [
      "('1 + 2 - 3 * 2 =', -3)\n",
      "('(1 + 2 - 3) * 2 =', 0)\n"
     ]
    }
   ],
   "source": [
    "# Order of Operation states * and / is performed before + and -\n",
    " \n",
    "print(\"1 + 2 - 3 * 2 =\", 1 + 2 - 3 * 2)\n",
    "print(\"(1 + 2 - 3) * 2 =\", (1 + 2 - 3) * 2)"
   ]
  },
  {
   "cell_type": "code",
   "execution_count": 5,
   "metadata": {},
   "outputs": [
    {
     "name": "stdout",
     "output_type": "stream",
     "text": [
      "I like the quote 3 31\n",
      "1 2 3\n",
      "zzzzz\n"
     ]
    }
   ],
   "source": [
    "# To embed a string in output use %s\n",
    "print(\"%s %s %s\" % ('I like the quote', 3, \"31\"))\n",
    "\n",
    "print(\"{} {} {}\".format(1,2,3))\n",
    "\n",
    "# # To keep from printing newlines use end=\"\"\n",
    "# print(\"I don't like \", end=\"\")  # error doesn't work, we don't use this anyway\n",
    "# print(\"newlines\")\n",
    " \n",
    "# You can print a string multiple times with *\n",
    "print('z' * 5)"
   ]
  },
  {
   "cell_type": "code",
   "execution_count": 7,
   "metadata": {},
   "outputs": [
    {
     "name": "stdout",
     "output_type": "stream",
     "text": [
      "('The first item is', 'Tomatoes')\n"
     ]
    }
   ],
   "source": [
    "# LISTS -------------\n",
    "# A list allows you to create a list of values and manipulate them\n",
    "# Each value has an index with the first one starting at 0\n",
    " \n",
    "grocery_list = ['Juice', 'Tomatoes', 'Potatoes', 'Bananas']\n",
    "print('The first item is', grocery_list[1])"
   ]
  },
  {
   "cell_type": "code",
   "execution_count": 8,
   "metadata": {},
   "outputs": [
    {
     "name": "stdout",
     "output_type": "stream",
     "text": [
      "['Green Juice', 'Tomatoes', 'Potatoes', 'Bananas']\n",
      "['Tomatoes', 'Potatoes']\n"
     ]
    }
   ],
   "source": [
    "# You can change the value stored in a list box\n",
    "grocery_list[0] = \"Green Juice\"\n",
    "print(grocery_list)\n",
    "\n",
    "# You can get a subset of the list with [min:up to but not including max]\n",
    "print(grocery_list[1:3])"
   ]
  },
  {
   "cell_type": "code",
   "execution_count": 9,
   "metadata": {
    "scrolled": true
   },
   "outputs": [
    {
     "name": "stdout",
     "output_type": "stream",
     "text": [
      "[['Wash Car', 'Pick up Kids', 'Cash Check'], ['Green Juice', 'Tomatoes', 'Potatoes', 'Bananas']]\n"
     ]
    }
   ],
   "source": [
    "# You can put any data type in a a list including a list\n",
    "other_events = ['Wash Car', 'Pick up Kids', 'Cash Check']\n",
    "to_do_list = [other_events, grocery_list]\n",
    "\n",
    "print(to_do_list) "
   ]
  },
  {
   "cell_type": "code",
   "execution_count": 10,
   "metadata": {},
   "outputs": [
    {
     "name": "stdout",
     "output_type": "stream",
     "text": [
      "Tomatoes\n"
     ]
    }
   ],
   "source": [
    "# Get the second item in the second list (Boxes inside of boxes)\n",
    "print(to_do_list[1][1]) "
   ]
  },
  {
   "cell_type": "code",
   "execution_count": 11,
   "metadata": {},
   "outputs": [
    {
     "name": "stdout",
     "output_type": "stream",
     "text": [
      "[['Wash Car', 'Pick up Kids', 'Cash Check'], ['Green Juice', 'Tomatoes', 'Potatoes', 'Bananas', 'onions']]\n"
     ]
    }
   ],
   "source": [
    "# You add values using append\n",
    "grocery_list.append('onions')\n",
    "print(to_do_list) "
   ]
  },
  {
   "cell_type": "markdown",
   "metadata": {},
   "source": [
    "## `if` - `elif` - `else`\n",
    "The `if`, `else` and `elif` statements are used to perform different actions based off of conditions\n",
    "\n",
    "Comparison Operators : `==, !=, >, <, >=, <=`\n",
    " \n",
    "The `if` statement will execute code if a condition is met\n",
    "\n",
    "White space is used to group blocks of code in Python. Use the same number of proceeding spaces for blocks of code"
   ]
  },
  {
   "cell_type": "code",
   "execution_count": 12,
   "metadata": {},
   "outputs": [
    {
     "name": "stdout",
     "output_type": "stream",
     "text": [
      "You are old enough to drive\n"
     ]
    }
   ],
   "source": [
    "age = 30\n",
    "if age > 16 :\n",
    "    print('You are old enough to drive')"
   ]
  },
  {
   "cell_type": "code",
   "execution_count": 13,
   "metadata": {},
   "outputs": [
    {
     "name": "stdout",
     "output_type": "stream",
     "text": [
      "You are old enough to drive\n"
     ]
    }
   ],
   "source": [
    "if age > 16 :\n",
    "    print('You are old enough to drive')\n",
    "else :\n",
    "    print('You are not old enough to drive')\n",
    " "
   ]
  },
  {
   "cell_type": "code",
   "execution_count": 14,
   "metadata": {},
   "outputs": [
    {
     "name": "stdout",
     "output_type": "stream",
     "text": [
      "You are old enough to drive a tractor trailer\n"
     ]
    }
   ],
   "source": [
    "# If you want to check for multiple conditions use elif\n",
    "# If the first matches it won't check other conditions that follow\n",
    " \n",
    "if age >= 21 :\n",
    "    print('You are old enough to drive a tractor trailer')\n",
    "elif age >= 16:\n",
    "    print('You are old enough to drive a car')\n",
    "else :\n",
    "    print('You are not old enough to drive') "
   ]
  },
  {
   "cell_type": "code",
   "execution_count": 15,
   "metadata": {},
   "outputs": [
    {
     "name": "stdout",
     "output_type": "stream",
     "text": [
      "You get a birthday party yeah\n"
     ]
    }
   ],
   "source": [
    "# You can combine conditions with logical operators\n",
    "# Logical Operators : and, or, not\n",
    " \n",
    "if ((age >= 1) and (age <= 18)):\n",
    "    print(\"You get a birthday party\")\n",
    "elif (age == 21) or (age >= 65):\n",
    "    print(\"You get a birthday party\")\n",
    "elif not(age == 30):\n",
    "    print(\"You don't get a birthday party\")\n",
    "else:\n",
    "    print(\"You get a birthday party yeah\") "
   ]
  },
  {
   "cell_type": "markdown",
   "metadata": {},
   "source": [
    "# `for` loops"
   ]
  },
  {
   "cell_type": "code",
   "execution_count": 17,
   "metadata": {},
   "outputs": [
    {
     "name": "stdout",
     "output_type": "stream",
     "text": [
      "0\n",
      "1\n",
      "2\n",
      "3\n",
      "4\n",
      "5\n",
      "6\n",
      "7\n",
      "8\n",
      "9\n",
      "\n",
      "\n",
      "Juice\n",
      "Tomatoes\n",
      "Potatoes\n",
      "Bananas\n"
     ]
    }
   ],
   "source": [
    "# Allows you to perform an action a set number of times\n",
    "# Range performs the action 10 times 0 - 9\n",
    "for x in range(0, 10):\n",
    "    print(x)\n",
    " \n",
    "print('\\n')\n",
    " \n",
    "# You can use for loops to cycle through a list\n",
    "grocery_list = ['Juice', 'Tomatoes', 'Potatoes', 'Bananas']\n",
    " \n",
    "for y in grocery_list:\n",
    "    print(y) "
   ]
  },
  {
   "cell_type": "code",
   "execution_count": null,
   "metadata": {
    "collapsed": true
   },
   "outputs": [],
   "source": [
    "# You can also define a list of numbers to cycle through\n",
    "for x in [2,4,6,8,10]:\n",
    "    print(x) "
   ]
  },
  {
   "cell_type": "code",
   "execution_count": null,
   "metadata": {
    "collapsed": true
   },
   "outputs": [],
   "source": [
    "# You can double up for loops to cycle through lists\n",
    "num_list =[[1,2,3],[10,20,30],[100,200,300]];\n",
    " \n",
    "for x in range(0,3):\n",
    "    for y in range(0,3):\n",
    "        print(num_list[x][y]) "
   ]
  },
  {
   "cell_type": "markdown",
   "metadata": {},
   "source": [
    "## `while` loops\n",
    "While loops are used when you don't know ahead of time how many times you'll have to loop"
   ]
  },
  {
   "cell_type": "code",
   "execution_count": null,
   "metadata": {
    "collapsed": true
   },
   "outputs": [],
   "source": [
    "random_num = random.randrange(0,10)\n",
    " \n",
    "while (random_num != 5):\n",
    "    print(random_num)\n",
    "    random_num = random.randrange(0,10)\n",
    "print (\"\\n{}\".format(random_num))"
   ]
  },
  {
   "cell_type": "code",
   "execution_count": null,
   "metadata": {
    "collapsed": true
   },
   "outputs": [],
   "source": [
    "# An iterator for a while loop is defined before the loop\n",
    "i = 0;\n",
    "while (i <= 20):\n",
    "    if(i%2 == 0):\n",
    "        print(i)\n",
    "    elif(i == 9):\n",
    "        # Forces the loop to end all together\n",
    "        break\n",
    "    else:\n",
    "        # Shorthand for i = i + 1\n",
    "        i += 1\n",
    "        # Skips to the next iteration of the loop\n",
    "        continue\n",
    " \n",
    "    i += 1 "
   ]
  },
  {
   "cell_type": "markdown",
   "metadata": {},
   "source": [
    "# FUNCTIONS\n",
    "Functions allow you to reuse and write readable code.\n",
    "\n",
    "Type def (define), function name and parameters it receives. \n",
    "\n",
    "return is used to return something to the caller of the function"
   ]
  },
  {
   "cell_type": "code",
   "execution_count": null,
   "metadata": {
    "collapsed": true
   },
   "outputs": [],
   "source": [
    "def addNumbers(fNum, sNum):\n",
    "    sumNum = fNum + sNum\n",
    "    return sumNum\n",
    " \n",
    "print(addNumbers(1, 4))\n",
    "\n",
    "# Can't get the value of rNum because it was created in a function\n",
    "# It is said to be out of scope\n",
    "# print(sumNum)"
   ]
  },
  {
   "cell_type": "code",
   "execution_count": 6,
   "metadata": {},
   "outputs": [
    {
     "name": "stdout",
     "output_type": "stream",
     "text": [
      "-3\n"
     ]
    }
   ],
   "source": [
    "# If you define a variable outside of the function it works every place\n",
    "newNum = 0;\n",
    "def subNumbers(fNum, sNum):\n",
    "    newNum = fNum - sNum\n",
    "    return newNum\n",
    " \n",
    "print(subNumbers(1, 4)) "
   ]
  },
  {
   "cell_type": "markdown",
   "metadata": {},
   "source": [
    "## Calculation of the greatest common divisor\n",
    "The efficient way to calculate the greatest common divisor is the Euclidean algorithm."
   ]
  },
  {
   "cell_type": "code",
   "execution_count": 10,
   "metadata": {},
   "outputs": [],
   "source": [
    "def greatest_common_divisor(a,b):\n",
    "    while b != 0:\n",
    "        c = a\n",
    "        a = b\n",
    "        b = c%b\n",
    "    return a"
   ]
  },
  {
   "cell_type": "code",
   "execution_count": 14,
   "metadata": {
    "scrolled": true
   },
   "outputs": [
    {
     "data": {
      "text/plain": [
       "7"
      ]
     },
     "execution_count": 14,
     "metadata": {},
     "output_type": "execute_result"
    }
   ],
   "source": [
    "greatest_common_divisor(91,49)"
   ]
  },
  {
   "cell_type": "markdown",
   "metadata": {},
   "source": [
    "## The extended Euclidean algorithm\n",
    "Given integers a,b:\n",
    "calcuate x,y such that ax + by = gcd(a,b)"
   ]
  },
  {
   "cell_type": "code",
   "execution_count": 28,
   "metadata": {},
   "outputs": [],
   "source": [
    "def extended_euclidean_algorithm(a,b):\n",
    "    a_array = []\n",
    "    b_array = []\n",
    "    q_array = []\n",
    "    c_array = []\n",
    "    while b != 0:\n",
    "        c = a\n",
    "        a = b\n",
    "        q = c//b\n",
    "        b = c%b\n",
    "        a_array.append(a)\n",
    "        b_array.append(b)\n",
    "        q_array.append(q)\n",
    "        c_array.append(c)\n",
    "    \n",
    "    print a_array\n",
    "    print b_array\n",
    "    print q_array\n",
    "    print c_array\n",
    "    \n",
    "    y_array = [1, q_array[-2]]\n",
    "    \n",
    "    i = 2\n",
    "    for x in a_array[::-1]:\n",
    "        y_array.append(y_array[i-1] - q_array[-i+1] * y_array[i-2])\n",
    "        \n",
    "        i = i + 1\n",
    "        \n",
    "    print y_array"
   ]
  },
  {
   "cell_type": "code",
   "execution_count": 29,
   "metadata": {},
   "outputs": [
    {
     "name": "stdout",
     "output_type": "stream",
     "text": [
      "[11, 7, 4, 3, 1]\n",
      "[7, 4, 3, 1, 0]\n",
      "[2, 1, 1, 1, 3]\n",
      "[29, 11, 7, 4, 3]\n",
      "[1, 1, -2, -3, -1, 2, 4]\n"
     ]
    }
   ],
   "source": [
    "extended_euclidean_algorithm(29,11)"
   ]
  },
  {
   "cell_type": "code",
   "execution_count": 65,
   "metadata": {},
   "outputs": [],
   "source": [
    "def extended_euclidean_algorithm(a,b):\n",
    "    remainders = [a,b]\n",
    "    quotient = []\n",
    "    while remainders[-1] != 0:\n",
    "        quotient.append(remainders[-2]//remainders[-1])\n",
    "        remainders.append(remainders[-2]%remainders[-1])\n",
    "        print remainders\n",
    "        print quotient    \n",
    "    \n",
    "    quotient.pop()\n",
    "    quotient = quotient[::-1]\n",
    "    \n",
    "    coefficients = [1, -quotient[0]]\n",
    "    for i in range(1,len(quotient)):\n",
    "        print(\"{} - {}*{}\".format(coefficients[-2], coefficients[-1], quotient[i]))\n",
    "        coefficients.append(coefficients[-2] - coefficients[-1]*quotient[i])\n",
    "        print coefficients\n",
    "        \n",
    "    return coefficients[-2],coefficients[-1]"
   ]
  },
  {
   "cell_type": "code",
   "execution_count": 66,
   "metadata": {},
   "outputs": [
    {
     "name": "stdout",
     "output_type": "stream",
     "text": [
      "[115, 18, 7]\n",
      "[6]\n",
      "[115, 18, 7, 4]\n",
      "[6, 2]\n",
      "[115, 18, 7, 4, 3]\n",
      "[6, 2, 1]\n",
      "[115, 18, 7, 4, 3, 1]\n",
      "[6, 2, 1, 1]\n",
      "[115, 18, 7, 4, 3, 1, 0]\n",
      "[6, 2, 1, 1, 3]\n",
      "1 - -1*1\n",
      "[1, -1, 2]\n",
      "-1 - 2*2\n",
      "[1, -1, 2, -5]\n",
      "2 - -5*6\n",
      "[1, -1, 2, -5, 32]\n"
     ]
    },
    {
     "data": {
      "text/plain": [
       "(-5, 32)"
      ]
     },
     "execution_count": 66,
     "metadata": {},
     "output_type": "execute_result"
    }
   ],
   "source": [
    "extended_euclidean_algorithm(115,18)"
   ]
  },
  {
   "cell_type": "code",
   "execution_count": null,
   "metadata": {
    "collapsed": true
   },
   "outputs": [],
   "source": []
  }
 ],
 "metadata": {
  "kernelspec": {
   "display_name": "Python 2",
   "language": "python",
   "name": "python2"
  },
  "language_info": {
   "codemirror_mode": {
    "name": "ipython",
    "version": 2
   },
   "file_extension": ".py",
   "mimetype": "text/x-python",
   "name": "python",
   "nbconvert_exporter": "python",
   "pygments_lexer": "ipython2",
   "version": "2.7.14"
  }
 },
 "nbformat": 4,
 "nbformat_minor": 2
}
