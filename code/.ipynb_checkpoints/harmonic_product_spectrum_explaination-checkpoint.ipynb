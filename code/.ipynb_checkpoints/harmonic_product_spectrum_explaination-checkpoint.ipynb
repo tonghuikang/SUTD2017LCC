{
 "cells": [
  {
   "cell_type": "markdown",
   "metadata": {},
   "source": [
    "# Explaination of the harmonic product spectrum"
   ]
  },
  {
   "cell_type": "code",
   "execution_count": 1,
   "metadata": {},
   "outputs": [],
   "source": [
    "# import packages\n",
    "import numpy as np\n",
    "import matplotlib.pyplot as plt\n",
    "import os\n",
    "import soundfile as sf"
   ]
  },
  {
   "cell_type": "markdown",
   "metadata": {},
   "source": [
    "Reinitialising the inputs to the algorithm"
   ]
  },
  {
   "cell_type": "code",
   "execution_count": 2,
   "metadata": {},
   "outputs": [
    {
     "ename": "RuntimeError",
     "evalue": "Error opening 'C:\\\\Users\\\\just4\\\\Documents\\\\GitHub\\\\SUTD2017LCC\\\\sounds\\\\u_ea.wav': System error.",
     "output_type": "error",
     "traceback": [
      "\u001b[1;31m---------------------------------------------------------------------------\u001b[0m",
      "\u001b[1;31mRuntimeError\u001b[0m                              Traceback (most recent call last)",
      "\u001b[1;32m<ipython-input-2-2695a66c5be1>\u001b[0m in \u001b[0;36m<module>\u001b[1;34m()\u001b[0m\n\u001b[0;32m      6\u001b[0m \u001b[0mfile_name\u001b[0m \u001b[1;33m=\u001b[0m \u001b[0mos\u001b[0m\u001b[1;33m.\u001b[0m\u001b[0mpath\u001b[0m\u001b[1;33m.\u001b[0m\u001b[0mjoin\u001b[0m\u001b[1;33m(\u001b[0m\u001b[0mfileDir\u001b[0m\u001b[1;33m,\u001b[0m \u001b[1;34m'../sounds/u_ea.wav'\u001b[0m\u001b[1;33m)\u001b[0m\u001b[1;33m\u001b[0m\u001b[0m\n\u001b[0;32m      7\u001b[0m \u001b[0mfile_name\u001b[0m \u001b[1;33m=\u001b[0m \u001b[0mos\u001b[0m\u001b[1;33m.\u001b[0m\u001b[0mpath\u001b[0m\u001b[1;33m.\u001b[0m\u001b[0mabspath\u001b[0m\u001b[1;33m(\u001b[0m\u001b[0mos\u001b[0m\u001b[1;33m.\u001b[0m\u001b[0mpath\u001b[0m\u001b[1;33m.\u001b[0m\u001b[0mrealpath\u001b[0m\u001b[1;33m(\u001b[0m\u001b[0mfile_name\u001b[0m\u001b[1;33m)\u001b[0m\u001b[1;33m)\u001b[0m\u001b[1;33m\u001b[0m\u001b[0m\n\u001b[1;32m----> 8\u001b[1;33m \u001b[0mref\u001b[0m\u001b[1;33m,\u001b[0m \u001b[0msample_rate\u001b[0m \u001b[1;33m=\u001b[0m \u001b[0msf\u001b[0m\u001b[1;33m.\u001b[0m\u001b[0mread\u001b[0m\u001b[1;33m(\u001b[0m\u001b[0mfile_name\u001b[0m\u001b[1;33m)\u001b[0m\u001b[1;33m\u001b[0m\u001b[0m\n\u001b[0m\u001b[0;32m      9\u001b[0m \u001b[1;33m\u001b[0m\u001b[0m\n\u001b[0;32m     10\u001b[0m \u001b[0mt_start\u001b[0m \u001b[1;33m=\u001b[0m \u001b[1;36m1.501\u001b[0m\u001b[1;33m\u001b[0m\u001b[0m\n",
      "\u001b[1;32mc:\\python27\\lib\\site-packages\\soundfile.pyc\u001b[0m in \u001b[0;36mread\u001b[1;34m(file, frames, start, stop, dtype, always_2d, fill_value, out, samplerate, channels, format, subtype, endian, closefd)\u001b[0m\n\u001b[0;32m    371\u001b[0m     \"\"\"\n\u001b[0;32m    372\u001b[0m     with SoundFile(file, 'r', samplerate, channels,\n\u001b[1;32m--> 373\u001b[1;33m                    subtype, endian, format, closefd) as f:\n\u001b[0m\u001b[0;32m    374\u001b[0m         \u001b[0mframes\u001b[0m \u001b[1;33m=\u001b[0m \u001b[0mf\u001b[0m\u001b[1;33m.\u001b[0m\u001b[0m_prepare_read\u001b[0m\u001b[1;33m(\u001b[0m\u001b[0mstart\u001b[0m\u001b[1;33m,\u001b[0m \u001b[0mstop\u001b[0m\u001b[1;33m,\u001b[0m \u001b[0mframes\u001b[0m\u001b[1;33m)\u001b[0m\u001b[1;33m\u001b[0m\u001b[0m\n\u001b[0;32m    375\u001b[0m         \u001b[0mdata\u001b[0m \u001b[1;33m=\u001b[0m \u001b[0mf\u001b[0m\u001b[1;33m.\u001b[0m\u001b[0mread\u001b[0m\u001b[1;33m(\u001b[0m\u001b[0mframes\u001b[0m\u001b[1;33m,\u001b[0m \u001b[0mdtype\u001b[0m\u001b[1;33m,\u001b[0m \u001b[0malways_2d\u001b[0m\u001b[1;33m,\u001b[0m \u001b[0mfill_value\u001b[0m\u001b[1;33m,\u001b[0m \u001b[0mout\u001b[0m\u001b[1;33m)\u001b[0m\u001b[1;33m\u001b[0m\u001b[0m\n",
      "\u001b[1;32mc:\\python27\\lib\\site-packages\\soundfile.pyc\u001b[0m in \u001b[0;36m__init__\u001b[1;34m(self, file, mode, samplerate, channels, subtype, endian, format, closefd)\u001b[0m\n\u001b[0;32m    738\u001b[0m         self._info = _create_info_struct(file, mode, samplerate, channels,\n\u001b[0;32m    739\u001b[0m                                          format, subtype, endian)\n\u001b[1;32m--> 740\u001b[1;33m         \u001b[0mself\u001b[0m\u001b[1;33m.\u001b[0m\u001b[0m_file\u001b[0m \u001b[1;33m=\u001b[0m \u001b[0mself\u001b[0m\u001b[1;33m.\u001b[0m\u001b[0m_open\u001b[0m\u001b[1;33m(\u001b[0m\u001b[0mfile\u001b[0m\u001b[1;33m,\u001b[0m \u001b[0mmode_int\u001b[0m\u001b[1;33m,\u001b[0m \u001b[0mclosefd\u001b[0m\u001b[1;33m)\u001b[0m\u001b[1;33m\u001b[0m\u001b[0m\n\u001b[0m\u001b[0;32m    741\u001b[0m         \u001b[1;32mif\u001b[0m \u001b[0mset\u001b[0m\u001b[1;33m(\u001b[0m\u001b[0mmode\u001b[0m\u001b[1;33m)\u001b[0m\u001b[1;33m.\u001b[0m\u001b[0missuperset\u001b[0m\u001b[1;33m(\u001b[0m\u001b[1;34m'r+'\u001b[0m\u001b[1;33m)\u001b[0m \u001b[1;32mand\u001b[0m \u001b[0mself\u001b[0m\u001b[1;33m.\u001b[0m\u001b[0mseekable\u001b[0m\u001b[1;33m(\u001b[0m\u001b[1;33m)\u001b[0m\u001b[1;33m:\u001b[0m\u001b[1;33m\u001b[0m\u001b[0m\n\u001b[0;32m    742\u001b[0m             \u001b[1;31m# Move write position to 0 (like in Python file objects)\u001b[0m\u001b[1;33m\u001b[0m\u001b[1;33m\u001b[0m\u001b[0m\n",
      "\u001b[1;32mc:\\python27\\lib\\site-packages\\soundfile.pyc\u001b[0m in \u001b[0;36m_open\u001b[1;34m(self, file, mode_int, closefd)\u001b[0m\n\u001b[0;32m   1263\u001b[0m             \u001b[1;32mraise\u001b[0m \u001b[0mTypeError\u001b[0m\u001b[1;33m(\u001b[0m\u001b[1;34m\"Invalid file: {0!r}\"\u001b[0m\u001b[1;33m.\u001b[0m\u001b[0mformat\u001b[0m\u001b[1;33m(\u001b[0m\u001b[0mself\u001b[0m\u001b[1;33m.\u001b[0m\u001b[0mname\u001b[0m\u001b[1;33m)\u001b[0m\u001b[1;33m)\u001b[0m\u001b[1;33m\u001b[0m\u001b[0m\n\u001b[0;32m   1264\u001b[0m         _error_check(_snd.sf_error(file_ptr),\n\u001b[1;32m-> 1265\u001b[1;33m                      \"Error opening {0!r}: \".format(self.name))\n\u001b[0m\u001b[0;32m   1266\u001b[0m         \u001b[1;32mif\u001b[0m \u001b[0mmode_int\u001b[0m \u001b[1;33m==\u001b[0m \u001b[0m_snd\u001b[0m\u001b[1;33m.\u001b[0m\u001b[0mSFM_WRITE\u001b[0m\u001b[1;33m:\u001b[0m\u001b[1;33m\u001b[0m\u001b[0m\n\u001b[0;32m   1267\u001b[0m             \u001b[1;31m# Due to a bug in libsndfile version <= 1.0.25, frames != 0\u001b[0m\u001b[1;33m\u001b[0m\u001b[1;33m\u001b[0m\u001b[0m\n",
      "\u001b[1;32mc:\\python27\\lib\\site-packages\\soundfile.pyc\u001b[0m in \u001b[0;36m_error_check\u001b[1;34m(err, prefix)\u001b[0m\n\u001b[0;32m   1453\u001b[0m     \u001b[1;32mif\u001b[0m \u001b[0merr\u001b[0m \u001b[1;33m!=\u001b[0m \u001b[1;36m0\u001b[0m\u001b[1;33m:\u001b[0m\u001b[1;33m\u001b[0m\u001b[0m\n\u001b[0;32m   1454\u001b[0m         \u001b[0merr_str\u001b[0m \u001b[1;33m=\u001b[0m \u001b[0m_snd\u001b[0m\u001b[1;33m.\u001b[0m\u001b[0msf_error_number\u001b[0m\u001b[1;33m(\u001b[0m\u001b[0merr\u001b[0m\u001b[1;33m)\u001b[0m\u001b[1;33m\u001b[0m\u001b[0m\n\u001b[1;32m-> 1455\u001b[1;33m         \u001b[1;32mraise\u001b[0m \u001b[0mRuntimeError\u001b[0m\u001b[1;33m(\u001b[0m\u001b[0mprefix\u001b[0m \u001b[1;33m+\u001b[0m \u001b[0m_ffi\u001b[0m\u001b[1;33m.\u001b[0m\u001b[0mstring\u001b[0m\u001b[1;33m(\u001b[0m\u001b[0merr_str\u001b[0m\u001b[1;33m)\u001b[0m\u001b[1;33m.\u001b[0m\u001b[0mdecode\u001b[0m\u001b[1;33m(\u001b[0m\u001b[1;34m'utf-8'\u001b[0m\u001b[1;33m,\u001b[0m \u001b[1;34m'replace'\u001b[0m\u001b[1;33m)\u001b[0m\u001b[1;33m)\u001b[0m\u001b[1;33m\u001b[0m\u001b[0m\n\u001b[0m\u001b[0;32m   1456\u001b[0m \u001b[1;33m\u001b[0m\u001b[0m\n\u001b[0;32m   1457\u001b[0m \u001b[1;33m\u001b[0m\u001b[0m\n",
      "\u001b[1;31mRuntimeError\u001b[0m: Error opening 'C:\\\\Users\\\\just4\\\\Documents\\\\GitHub\\\\SUTD2017LCC\\\\sounds\\\\u_ea.wav': System error."
     ]
    }
   ],
   "source": [
    "chunksize = 2048\n",
    "notes_dict = [\"C\", \"C#\", \"D\", \"D#\", \"E\", \"F\", \"F#\", \"G\", \"G#\", \"A\", \"A#\", \"B\"]\n",
    "\n",
    "# read file\n",
    "fileDir = os.path.dirname(os.path.realpath('__file__'))\n",
    "file_name = os.path.join(fileDir, '../sounds/u_ea.wav')\n",
    "file_name = os.path.abspath(os.path.realpath(file_name))\n",
    "ref, sample_rate = sf.read(file_name)\n",
    "\n",
    "t_start = 1.501\n",
    "signal = ref[int(t_start * 44100): int(t_start * 44100 + 2050), 0]\n",
    "signal_length = chunksize\n",
    "\n",
    "signal_to_ayse = signal[:2048]\n",
    "\n",
    "plt.plot(signal_to_ayse)\n",
    "plt.xlabel(\"entry number (1/44100 s)\")\n",
    "plt.ylabel(\"displacement\")\n",
    "ax = plt.gca()\n",
    "ax.set_xlim([0, 2048])\n",
    "plt.show()"
   ]
  },
  {
   "cell_type": "markdown",
   "metadata": {},
   "source": [
    "## Taking the Discrete Fourier Transform"
   ]
  },
  {
   "cell_type": "code",
   "execution_count": null,
   "metadata": {},
   "outputs": [],
   "source": [
    "spectrum = np.absolute(np.fft.fft(signal_to_ayse))\n",
    "\n",
    "plt.plot(spectrum, lw=0.4)\n",
    "plt.xlabel(\"frequency entry (44100/2048 Hz)\")\n",
    "plt.ylabel(\"amplitude (absolute)\")\n",
    "ax = plt.gca() \n",
    "ax.set_xlim([0, 2048])\n",
    "plt.show()"
   ]
  },
  {
   "cell_type": "markdown",
   "metadata": {},
   "source": [
    "## Zooming into the relevant part of the spectrum\n",
    "Removing the second half of the spectrum, and the lowest frequencies"
   ]
  },
  {
   "cell_type": "code",
   "execution_count": null,
   "metadata": {},
   "outputs": [],
   "source": [
    "spectrum[:6] = 0.0  # anything below middle C is muted\n",
    "spectrum[1024:] = 0.0  # mute second half of spectrum, lazy to change code\n",
    "\n",
    "plt.plot(spectrum[:133])\n",
    "plt.xlabel(\"frequency entry (44100/2048 Hz)\")\n",
    "plt.ylabel(\"amplitude (absolute)\")\n",
    "plt.show()"
   ]
  },
  {
   "cell_type": "markdown",
   "metadata": {},
   "source": [
    "## Taking different scales of the spectrum\n",
    "We stretch $\\hat{s}[k]$ to $\\hat{s}^\\ast[k]$ \n",
    "\n",
    "$\\hat{s}^\\ast[k] = \\hat{s}[k/6]$ for $k = 0 \\enspace mod \\enspace 6$\n",
    "\n",
    "If $k$ in $\\hat{s}^\\ast[k]$ is not divisible by 6, we interpolate between its adjacent points.\n",
    "\n",
    "For $k = 1 \\enspace mod \\enspace 6$ :<br>\n",
    "$\\hat{s}^\\ast[k] = \\frac{5}{6} \\cdot \\hat{s}\\left[\\frac{k-1}{6}\\right] + \\frac{1}{6} \\cdot \\hat{s}\\left[\\frac{k+5}{6}\\right]$ <br> ... etc\n",
    "\n",
    "[//]: # ($\\hat{s}^\\ast[k] = \\frac{2}{6} \\hat{s}[(k-2)/6] + \\frac{2}{6} \\hat{s}[(k+4)/6]$ for $k = 2\\mod 6$)\n",
    "\n",
    "[//]: # ($\\hat{s}^\\ast[k] = \\frac{3}{6} \\hat{s}[(k-3)/6] + \\frac{3}{6} \\hat{s}[(k+3)/6]$ for $k = 3\\mod 6$)\n",
    "\n",
    "[//]: # ($\\hat{s}^\\ast[k] = \\frac{4}{6} \\hat{s}[(k-4)/6] + \\frac{4}{6} \\hat{s}[(k+2)/6]$ for $k = 4\\mod 6$)\n",
    "\n",
    "[//]: # ($\\hat{s}^\\ast[k] = \\frac{5}{6} \\hat{s}[(k-5)/6] + \\frac{5}{6} \\hat{s}[(k+1)/6]$ for $k = 5\\mod 6$)"
   ]
  },
  {
   "cell_type": "code",
   "execution_count": null,
   "metadata": {},
   "outputs": [],
   "source": [
    "scale1 = [0.0] * (2048 * 6)\n",
    "scale2 = [0.0] * (2048 * 6)\n",
    "scale3 = [0.0] * (2048 * 6)\n",
    "\n",
    "# upsampling the original scale spectrum, 6 for 1\n",
    "scale1_f1 = np.convolve(spectrum, [5.0 / 6.0, 1.0 / 6.0])[1:]\n",
    "scale1_f2 = np.convolve(spectrum, [4.0 / 6.0, 2.0 / 6.0])[1:]\n",
    "scale1_f3 = np.convolve(spectrum, [3.0 / 6.0, 3.0 / 6.0])[1:]\n",
    "scale1_f4 = np.convolve(spectrum, [2.0 / 6.0, 4.0 / 6.0])[1:]\n",
    "scale1_f5 = np.convolve(spectrum, [1.0 / 6.0, 5.0 / 6.0])[1:]\n",
    "scale1[::6] = spectrum\n",
    "scale1[1::6] = scale1_f5\n",
    "scale1[2::6] = scale1_f4\n",
    "scale1[3::6] = scale1_f3\n",
    "scale1[4::6] = scale1_f2\n",
    "scale1[5::6] = scale1_f1\n",
    "# downsampling from the 6 for 1 upsample\n",
    "scale2[:2048 * 3] = scale1[::2]\n",
    "scale3[:2048 * 2] = scale1[::3]\n",
    "\n",
    "plt.plot(scale1[:400])\n",
    "plt.plot(scale2[:400])\n",
    "plt.plot(scale3[:400])\n",
    "plt.xlabel(\"frequency entry - upscaled 1 to 6 (6*44100/2048 Hz)\")\n",
    "plt.ylabel(\"amplitude (absolute)\")\n",
    "plt.show()"
   ]
  },
  {
   "cell_type": "markdown",
   "metadata": {},
   "source": [
    "## Multiplying the different scales of the spectrum"
   ]
  },
  {
   "cell_type": "code",
   "execution_count": null,
   "metadata": {},
   "outputs": [],
   "source": [
    "hps = np.prod((scale1, scale2, scale3), axis=0)  # the \"product\" in harmonic product spectrum\n",
    "hps_max = np.argmax(hps)  # determine the location of the peak of hps result\n",
    "# calculate the corresponding frequency of the peak\n",
    "ffreq = hps_max * 44100.0 / (2048.0 * 6.0)  # sampling rate / (chunksize * upsampling value)\n",
    "\n",
    "plt.plot(hps[:400])\n",
    "plt.xlabel(\"frequency entry - upscaled 1 to 6 (6*44100/2048 Hz)\")\n",
    "plt.ylabel(\"hps product\")\n",
    "plt.show()\n",
    "\n",
    "print(\"{} at entry {}\".format(ffreq, hps_max))"
   ]
  },
  {
   "cell_type": "markdown",
   "metadata": {},
   "source": [
    "## Calculating the fraction of the area under graph due to the spectrum"
   ]
  },
  {
   "cell_type": "code",
   "execution_count": null,
   "metadata": {},
   "outputs": [],
   "source": [
    "spectrum = np.array(spectrum[:int(0.5 * chunksize) + 1])  # to be plotted\n",
    "\n",
    "# TODO: add some weights, adapt spread based on how high ffreq is\n",
    "total_energy = np.sum(scale1)\n",
    "total_energy_due_to_ffreq = np.sum(scale1[::hps_max]) \\\n",
    "                            + np.sum(scale1[1::hps_max]) + np.sum(scale1[:hps_max - 1:hps_max]) \\\n",
    "#                             + np.sum(scale1[2::hps_max]) + np.sum(scale1[:hps_max - 2:hps_max]) \\\n",
    "#  + np.sum(scale1[3::hps_max]) + np.sum(scale1[:hps_max - 3:hps_max]) \\\n",
    "#  + np.sum(scale1[4::hps_max]) + np.sum(scale1[:hps_max - 4:hps_max]) \\\n",
    "#  + np.sum(scale1[5::hps_max]) + np.sum(scale1[:hps_max - 5:hps_max]) \\\n",
    "#  + np.sum(scale1[6::hps_max]) + np.sum(scale1[:hps_max - 6:hps_max])\n",
    "\n",
    "portion_of_energy = (total_energy_due_to_ffreq / total_energy)\n",
    "\n",
    "print(\"total: {}\".format(total_energy))\n",
    "print(\"note: {}\".format(total_energy_due_to_ffreq))\n",
    "print(\"fraction: {}\".format(portion_of_energy))"
   ]
  },
  {
   "cell_type": "markdown",
   "metadata": {},
   "source": [
    "## Print note if note detected"
   ]
  },
  {
   "cell_type": "code",
   "execution_count": null,
   "metadata": {},
   "outputs": [],
   "source": [
    "if portion_of_energy > 0.05:\n",
    "    # printing note in solfage form\n",
    "    note_no = -3 + (np.log2(ffreq) - np.log2(220.0)) * 12.0  # take logarithm and find note\n",
    "    note_no_rounded = np.round(note_no)  # round off to nearest note\n",
    "    note_no_difference = note_no - note_no_rounded\n",
    "    octave_no = 4 + int(note_no_rounded // 12)\n",
    "    solfate_no = int(note_no_rounded) % 12\n",
    "    note = str(notes_dict[solfate_no]) + str(octave_no)\n",
    "\n",
    "    print (\"{:.2f}Hz({:02}) {:.2f}, {:3s} {:+.2f}\"\n",
    "           .format(ffreq, int(note_no_rounded), portion_of_energy, note, note_no_difference))\n",
    "    note_detected = True\n",
    "else:\n",
    "    print(\"inharmonic sound ({:.2f}) detected at {:.3f}s\"\n",
    "          .format(portion_of_energy, t_start + i * 2048. / 44100.))"
   ]
  },
  {
   "cell_type": "code",
   "execution_count": null,
   "metadata": {},
   "outputs": [],
   "source": []
  },
  {
   "cell_type": "code",
   "execution_count": null,
   "metadata": {},
   "outputs": [],
   "source": []
  }
 ],
 "metadata": {
  "kernelspec": {
   "display_name": "Python 2",
   "language": "python",
   "name": "python2"
  },
  "language_info": {
   "codemirror_mode": {
    "name": "ipython",
    "version": 2
   },
   "file_extension": ".py",
   "mimetype": "text/x-python",
   "name": "python",
   "nbconvert_exporter": "python",
   "pygments_lexer": "ipython2",
   "version": "2.7.14"
  }
 },
 "nbformat": 4,
 "nbformat_minor": 2
}
