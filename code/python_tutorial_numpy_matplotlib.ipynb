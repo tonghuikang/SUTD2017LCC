{
 "cells": [
  {
   "cell_type": "markdown",
   "metadata": {},
   "source": [
    "# `numpy`, `scipy` and `matplotlib` tutorial\n",
    "The functions used."
   ]
  },
  {
   "cell_type": "code",
   "execution_count": 1,
   "metadata": {},
   "outputs": [
    {
     "name": "stdout",
     "output_type": "stream",
     "text": [
      "The history saving thread hit an unexpected error (OperationalError('database is locked',)).History will not be written to the database.\n",
      "0.0\n"
     ]
    }
   ],
   "source": [
    "# importing packages\n",
    "import numpy as np\n",
    "# numpy is a math package\n",
    "# \"as np\" means we will use np to call the package.\n",
    "# we could have used numpy\n",
    "\n",
    "import matplotlib.pyplot as plt\n",
    "# matplotlib is a graphing package\n",
    "\n",
    "import time\n",
    "# a timer, to show the advantage in time\n",
    "start_time = time.time()\n",
    "print(time.time() - start_time)\n"
   ]
  },
  {
   "cell_type": "markdown",
   "metadata": {},
   "source": [
    "## Making an array from 0 to 999999"
   ]
  },
  {
   "cell_type": "code",
   "execution_count": 2,
   "metadata": {},
   "outputs": [
    {
     "name": "stdout",
     "output_type": "stream",
     "text": [
      "0.131999969482\n"
     ]
    }
   ],
   "source": [
    "# classical method with list comprehension\n",
    "prev_time = time.time()  # start timer\n",
    "\n",
    "C1 = [x for x in range(1000000)]\n",
    "\n",
    "print(time.time() - prev_time)  # record timer"
   ]
  },
  {
   "cell_type": "code",
   "execution_count": 3,
   "metadata": {},
   "outputs": [
    {
     "name": "stdout",
     "output_type": "stream",
     "text": [
      "0.00200009346008\n"
     ]
    }
   ],
   "source": [
    "# numpy method\n",
    "prev_time = time.time()  # start timer\n",
    "\n",
    "N1 = np.arange(1000000)\n",
    "\n",
    "print(time.time() - prev_time)  # record timer"
   ]
  },
  {
   "cell_type": "markdown",
   "metadata": {},
   "source": [
    "## Generating a array of 1000000 random normal numbers"
   ]
  },
  {
   "cell_type": "code",
   "execution_count": 4,
   "metadata": {},
   "outputs": [
    {
     "name": "stdout",
     "output_type": "stream",
     "text": [
      "1.92000007629\n"
     ]
    }
   ],
   "source": [
    "# classical method\n",
    "import random\n",
    "prev_time = time.time()  # start timer\n",
    "\n",
    "C2 = [random.gauss(0,1) for _ in range(1000000)]\n",
    "\n",
    "print(time.time() - prev_time)  # record timer"
   ]
  },
  {
   "cell_type": "code",
   "execution_count": 5,
   "metadata": {},
   "outputs": [
    {
     "name": "stdout",
     "output_type": "stream",
     "text": [
      "0.055999994278\n"
     ]
    }
   ],
   "source": [
    "# numpy method\n",
    "prev_time = time.time()  # start timer\n",
    "\n",
    "N2 = np.random.randn(1000000)\n",
    "\n",
    "print(time.time() - prev_time)  # record timer"
   ]
  },
  {
   "cell_type": "markdown",
   "metadata": {},
   "source": [
    "## Adding two arrays\n",
    "Refer to stackoverflow.com/questions/8385602 to consider explaination of why NumPy is faster."
   ]
  },
  {
   "cell_type": "code",
   "execution_count": 6,
   "metadata": {},
   "outputs": [
    {
     "name": "stdout",
     "output_type": "stream",
     "text": [
      "0.328000068665\n"
     ]
    }
   ],
   "source": [
    "# classical method\n",
    "prev_time = time.time()  # start timer\n",
    "\n",
    "C3 = [C1[x] + C2[x] for x in range(1000000)]\n",
    "\n",
    "print(time.time() - prev_time)  # record timer"
   ]
  },
  {
   "cell_type": "code",
   "execution_count": 7,
   "metadata": {},
   "outputs": [
    {
     "name": "stdout",
     "output_type": "stream",
     "text": [
      "0.00800013542175\n"
     ]
    }
   ],
   "source": [
    "# numpy method\n",
    "prev_time = time.time()  # start timer\n",
    "\n",
    "N3 = np.add(N1,N2)\n",
    "\n",
    "print(time.time() - prev_time)  # record timer"
   ]
  },
  {
   "cell_type": "markdown",
   "metadata": {},
   "source": [
    "## Squaring each value in an arrays"
   ]
  },
  {
   "cell_type": "code",
   "execution_count": 8,
   "metadata": {},
   "outputs": [
    {
     "name": "stdout",
     "output_type": "stream",
     "text": [
      "0.319000005722\n"
     ]
    }
   ],
   "source": [
    "# classical method\n",
    "prev_time = time.time()  # start timer\n",
    "\n",
    "C4 = [C2[x] * C2[x] for x in range(1000000)]\n",
    "\n",
    "print(time.time() - prev_time)  # record timer"
   ]
  },
  {
   "cell_type": "code",
   "execution_count": 9,
   "metadata": {},
   "outputs": [
    {
     "name": "stdout",
     "output_type": "stream",
     "text": [
      "0.00499987602234\n"
     ]
    }
   ],
   "source": [
    "# numpy method\n",
    "prev_time = time.time()  # start timer\n",
    "\n",
    "N4 = np.multiply(N2,N2)\n",
    "\n",
    "print(time.time() - prev_time)  # record timer"
   ]
  },
  {
   "cell_type": "markdown",
   "metadata": {},
   "source": [
    "## Taking the dot product"
   ]
  },
  {
   "cell_type": "code",
   "execution_count": 10,
   "metadata": {},
   "outputs": [
    {
     "name": "stdout",
     "output_type": "stream",
     "text": [
      "0.436999797821\n"
     ]
    }
   ],
   "source": [
    "# classical method\n",
    "prev_time = time.time()  # start timer\n",
    "\n",
    "def dot(v1, v2):\n",
    "    return sum(x*y for x,y in zip(v1,v2))\n",
    "C5 = dot(C3, C4)\n",
    "\n",
    "print(time.time() - prev_time)  # record timer"
   ]
  },
  {
   "cell_type": "code",
   "execution_count": 11,
   "metadata": {},
   "outputs": [
    {
     "name": "stdout",
     "output_type": "stream",
     "text": [
      "0.00200009346008\n"
     ]
    }
   ],
   "source": [
    "# numpy method\n",
    "prev_time = time.time()  # start timer\n",
    "\n",
    "N5 = np.dot(N3,N4)\n",
    "\n",
    "print(time.time() - prev_time)  # record timer"
   ]
  },
  {
   "cell_type": "markdown",
   "metadata": {},
   "source": [
    "For the rest of the functions, just Google it. \n",
    "\n",
    "However, NumPy may not have some of the functions. That will require SciPy.\n",
    "\n",
    "# Scipy\n",
    "Scipy contains more mathematical functions. These functions tend to be specialised. \n",
    "## Kurtosis\n",
    "We will calculate the kurtosis of the following array, with two different methods."
   ]
  },
  {
   "cell_type": "code",
   "execution_count": 12,
   "metadata": {},
   "outputs": [],
   "source": [
    "K1 = np.add(np.random.random(1000000), np.random.random(1000000))"
   ]
  },
  {
   "cell_type": "code",
   "execution_count": 13,
   "metadata": {},
   "outputs": [
    {
     "name": "stdout",
     "output_type": "stream",
     "text": [
      "excess kurtosis: -0.599583060897\n",
      "0.223000049591\n"
     ]
    }
   ],
   "source": [
    "# numpy implementation\n",
    "prev_time = time.time()  # start timer\n",
    "\n",
    "mean_mean = np.mean(K1)  # mean\n",
    "std_std = np.std(K1)  # std_dev\n",
    "meenus = np.add(K1, [-mean_mean]*len(K1))\n",
    "meenus_4 = np.sum(np.power(meenus, 4))\n",
    "print(\"excess kurtosis: {}\".format(-3 + meenus_4/(len(K1)*std_std**4)))\n",
    "\n",
    "print(time.time() - prev_time)  # record timer"
   ]
  },
  {
   "cell_type": "code",
   "execution_count": 14,
   "metadata": {},
   "outputs": [
    {
     "ename": "ImportError",
     "evalue": "No module named scipy.stats",
     "output_type": "error",
     "traceback": [
      "\u001b[1;31m---------------------------------------------------------------------------\u001b[0m",
      "\u001b[1;31mImportError\u001b[0m                               Traceback (most recent call last)",
      "\u001b[1;32m<ipython-input-14-97638368d49c>\u001b[0m in \u001b[0;36m<module>\u001b[1;34m()\u001b[0m\n\u001b[1;32m----> 1\u001b[1;33m \u001b[1;32mfrom\u001b[0m \u001b[0mscipy\u001b[0m\u001b[1;33m.\u001b[0m\u001b[0mstats\u001b[0m \u001b[1;32mimport\u001b[0m \u001b[0mkurtosis\u001b[0m\u001b[1;33m\u001b[0m\u001b[0m\n\u001b[0m\u001b[0;32m      2\u001b[0m \u001b[1;33m\u001b[0m\u001b[0m\n\u001b[0;32m      3\u001b[0m \u001b[1;31m# scipy implementation\u001b[0m\u001b[1;33m\u001b[0m\u001b[1;33m\u001b[0m\u001b[0m\n\u001b[0;32m      4\u001b[0m \u001b[0mprev_time\u001b[0m \u001b[1;33m=\u001b[0m \u001b[0mtime\u001b[0m\u001b[1;33m.\u001b[0m\u001b[0mtime\u001b[0m\u001b[1;33m(\u001b[0m\u001b[1;33m)\u001b[0m  \u001b[1;31m# start timer\u001b[0m\u001b[1;33m\u001b[0m\u001b[0m\n\u001b[0;32m      5\u001b[0m \u001b[1;33m\u001b[0m\u001b[0m\n",
      "\u001b[1;31mImportError\u001b[0m: No module named scipy.stats"
     ]
    }
   ],
   "source": [
    "from scipy.stats import kurtosis\n",
    "\n",
    "# scipy implementation\n",
    "prev_time = time.time()  # start timer\n",
    "\n",
    "print(\"excess kurtosis: {}\".format(kurtosis(K1)))\n",
    "\n",
    "print(time.time() - prev_time)  # record timer"
   ]
  },
  {
   "cell_type": "markdown",
   "metadata": {},
   "source": [
    "# `matplotlib`"
   ]
  },
  {
   "cell_type": "markdown",
   "metadata": {},
   "source": [
    "## plot with an array"
   ]
  },
  {
   "cell_type": "code",
   "execution_count": null,
   "metadata": {},
   "outputs": [],
   "source": [
    "# x-axis is the entry number, y-axis is the value\n",
    "plt.plot(C2[:20])\n",
    "plt.show()"
   ]
  },
  {
   "cell_type": "markdown",
   "metadata": {},
   "source": [
    "## plot with two arrays"
   ]
  },
  {
   "cell_type": "code",
   "execution_count": null,
   "metadata": {},
   "outputs": [],
   "source": [
    "plt.plot(N2[:20], C2[:20])\n",
    "plt.show()"
   ]
  },
  {
   "cell_type": "markdown",
   "metadata": {},
   "source": [
    "## set plot range"
   ]
  },
  {
   "cell_type": "code",
   "execution_count": null,
   "metadata": {},
   "outputs": [],
   "source": [
    "plt.plot(N2[:20], C2[:20])\n",
    "ax = plt.gca() \n",
    "ax.set_ylim([-3, 3])\n",
    "ax.set_xlim([-3, 3])\n",
    "plt.show()"
   ]
  },
  {
   "cell_type": "markdown",
   "metadata": {},
   "source": [
    "## plot with different colour and thickness, and with label"
   ]
  },
  {
   "cell_type": "code",
   "execution_count": null,
   "metadata": {},
   "outputs": [],
   "source": [
    "plt.plot(N2[0:10], C2[0:10], lw = 0.1, color='k', label=\"line 1\")\n",
    "plt.plot(N2[10:20], C2[10:20], lw = 0.6, color='g', label=\"line 2\")\n",
    "plt.plot(N2[20:30], C2[20:30], lw = 2.3, color='y', label=\"line 3\")\n",
    "ax = plt.gca() \n",
    "ax.set_ylim([-3, 3])\n",
    "ax.set_xlim([-3, 3])\n",
    "plt.legend(loc=\"best\")\n",
    "plt.xlabel(\"N3\")\n",
    "plt.ylabel(\"C3\")\n",
    "plt.show()"
   ]
  },
  {
   "cell_type": "code",
   "execution_count": null,
   "metadata": {},
   "outputs": [],
   "source": []
  }
 ],
 "metadata": {
  "kernelspec": {
   "display_name": "Python 2",
   "language": "python",
   "name": "python2"
  },
  "language_info": {
   "codemirror_mode": {
    "name": "ipython",
    "version": 2
   },
   "file_extension": ".py",
   "mimetype": "text/x-python",
   "name": "python",
   "nbconvert_exporter": "python",
   "pygments_lexer": "ipython2",
   "version": "2.7.14"
  }
 },
 "nbformat": 4,
 "nbformat_minor": 2
}
